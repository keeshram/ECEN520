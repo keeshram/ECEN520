{
 "cells": [
  {
   "cell_type": "code",
   "execution_count": 6,
   "metadata": {
    "colab": {
     "base_uri": "https://localhost:8080/"
    },
    "id": "vGWW5jH3QZye",
    "outputId": "200b7f38-f8e6-4717-b1b8-3f0548093947"
   },
   "outputs": [],
   "source": [
    "import pandas as pd\n",
    "import nltk\n",
    "import re\n",
    "import string\n",
    "from nltk.tokenize import word_tokenize, sent_tokenize\n",
    "from nltk.stem import PorterStemmer, WordNetLemmatizer\n",
    "from sklearn.feature_extraction.text import TfidfVectorizer\n",
    "import matplotlib.pyplot as plt\n",
    "from collections import Counter\n",
    "from sklearn.feature_extraction._stop_words import ENGLISH_STOP_WORDS\n",
    "\n",
    "# Ensure necessary NLTK downloads\n",
    "# nltk.download('punkt')\n",
    "# nltk.download('wordnet')\n",
    "# nltk.download('averaged_perceptron_tagger')\n",
    "# nltk.download('maxent_ne_chunker')\n",
    "# nltk.download('words')\n",
    "\n",
    "# Load and preprocess data\n",
    "train_file = '../data/train.csv'\n",
    "test_file = '../data/test.csv'\n",
    "\n",
    "df = {\n",
    "    'train': pd.read_csv(train_file),\n",
    "    'test': pd.read_csv(test_file)\n",
    "}"
   ]
  },
  {
   "cell_type": "code",
   "execution_count": 3,
   "metadata": {
    "colab": {
     "base_uri": "https://localhost:8080/",
     "height": 424
    },
    "id": "waB3I45GAnfa",
    "outputId": "6f85de8b-492f-4b34-e8cc-6e6506bd6078"
   },
   "outputs": [
    {
     "data": {
      "text/html": [
       "<div>\n",
       "<style scoped>\n",
       "    .dataframe tbody tr th:only-of-type {\n",
       "        vertical-align: middle;\n",
       "    }\n",
       "\n",
       "    .dataframe tbody tr th {\n",
       "        vertical-align: top;\n",
       "    }\n",
       "\n",
       "    .dataframe thead th {\n",
       "        text-align: right;\n",
       "    }\n",
       "</style>\n",
       "<table border=\"1\" class=\"dataframe\">\n",
       "  <thead>\n",
       "    <tr style=\"text-align: right;\">\n",
       "      <th></th>\n",
       "      <th>essay_id</th>\n",
       "      <th>full_text</th>\n",
       "      <th>score</th>\n",
       "    </tr>\n",
       "  </thead>\n",
       "  <tbody>\n",
       "    <tr>\n",
       "      <th>0</th>\n",
       "      <td>000d118</td>\n",
       "      <td>Many people have car where they live. The thin...</td>\n",
       "      <td>3</td>\n",
       "    </tr>\n",
       "    <tr>\n",
       "      <th>1</th>\n",
       "      <td>000fe60</td>\n",
       "      <td>I am a scientist at NASA that is discussing th...</td>\n",
       "      <td>3</td>\n",
       "    </tr>\n",
       "    <tr>\n",
       "      <th>2</th>\n",
       "      <td>001ab80</td>\n",
       "      <td>People always wish they had the same technolog...</td>\n",
       "      <td>4</td>\n",
       "    </tr>\n",
       "    <tr>\n",
       "      <th>3</th>\n",
       "      <td>001bdc0</td>\n",
       "      <td>We all heard about Venus, the planet without a...</td>\n",
       "      <td>4</td>\n",
       "    </tr>\n",
       "    <tr>\n",
       "      <th>4</th>\n",
       "      <td>002ba53</td>\n",
       "      <td>Dear, State Senator\\n\\nThis is a letter to arg...</td>\n",
       "      <td>3</td>\n",
       "    </tr>\n",
       "    <tr>\n",
       "      <th>...</th>\n",
       "      <td>...</td>\n",
       "      <td>...</td>\n",
       "      <td>...</td>\n",
       "    </tr>\n",
       "    <tr>\n",
       "      <th>17302</th>\n",
       "      <td>ffd378d</td>\n",
       "      <td>the story \" The Challenge of Exploing Venus \" ...</td>\n",
       "      <td>2</td>\n",
       "    </tr>\n",
       "    <tr>\n",
       "      <th>17303</th>\n",
       "      <td>ffddf1f</td>\n",
       "      <td>Technology has changed a lot of ways that we l...</td>\n",
       "      <td>4</td>\n",
       "    </tr>\n",
       "    <tr>\n",
       "      <th>17304</th>\n",
       "      <td>fff016d</td>\n",
       "      <td>If you don't like sitting around all day than ...</td>\n",
       "      <td>2</td>\n",
       "    </tr>\n",
       "    <tr>\n",
       "      <th>17305</th>\n",
       "      <td>fffb49b</td>\n",
       "      <td>In \"The Challenge of Exporing Venus,\" the auth...</td>\n",
       "      <td>1</td>\n",
       "    </tr>\n",
       "    <tr>\n",
       "      <th>17306</th>\n",
       "      <td>fffed3e</td>\n",
       "      <td>Venus is worthy place to study but dangerous. ...</td>\n",
       "      <td>2</td>\n",
       "    </tr>\n",
       "  </tbody>\n",
       "</table>\n",
       "<p>17307 rows × 3 columns</p>\n",
       "</div>"
      ],
      "text/plain": [
       "      essay_id                                          full_text  score\n",
       "0      000d118  Many people have car where they live. The thin...      3\n",
       "1      000fe60  I am a scientist at NASA that is discussing th...      3\n",
       "2      001ab80  People always wish they had the same technolog...      4\n",
       "3      001bdc0  We all heard about Venus, the planet without a...      4\n",
       "4      002ba53  Dear, State Senator\\n\\nThis is a letter to arg...      3\n",
       "...        ...                                                ...    ...\n",
       "17302  ffd378d  the story \" The Challenge of Exploing Venus \" ...      2\n",
       "17303  ffddf1f  Technology has changed a lot of ways that we l...      4\n",
       "17304  fff016d  If you don't like sitting around all day than ...      2\n",
       "17305  fffb49b  In \"The Challenge of Exporing Venus,\" the auth...      1\n",
       "17306  fffed3e  Venus is worthy place to study but dangerous. ...      2\n",
       "\n",
       "[17307 rows x 3 columns]"
      ]
     },
     "execution_count": 3,
     "metadata": {},
     "output_type": "execute_result"
    }
   ],
   "source": [
    "train = pd.read_csv(train_file)\n",
    "\n",
    "train"
   ]
  },
  {
   "cell_type": "code",
   "execution_count": 4,
   "metadata": {
    "colab": {
     "base_uri": "https://localhost:8080/",
     "height": 452
    },
    "id": "XEj4_BGwBzrK",
    "outputId": "60718230-bcfb-4906-c401-d7a5454d44ef"
   },
   "outputs": [
    {
     "data": {
      "image/png": "[encoded data removed]",
      "text/plain": [
       "<Figure size 640x480 with 1 Axes>"
      ]
     },
     "metadata": {},
     "output_type": "display_data"
    }
   ],
   "source": [
    "# @title score\n",
    "\n",
    "from matplotlib import pyplot as plt\n",
    "train['score'].plot(kind='hist', bins=20, title='score')\n",
    "plt.gca().spines[['top', 'right',]].set_visible(False)"
   ]
  },
  {
   "cell_type": "code",
   "execution_count": null,
   "metadata": {
    "colab": {
     "base_uri": "https://localhost:8080/",
     "height": 802
    },
    "id": "T-or8Nq7TBDO",
    "outputId": "1b92dc31-aa9b-47f8-e2d4-9baf458f2ff6"
   },
   "outputs": [],
   "source": [
    "\n",
    "stop_words = ['car','people','like']\n",
    "\n",
    "def remove_whitespace(text):\n",
    "    result = text.strip()\n",
    "    return result\n",
    "\n",
    "def comprehensive_text_preprocessing(text):\n",
    "    # Lowercase and remove HTML tags\n",
    "    text = text.lower()\n",
    "    text = re.sub(r'<.*?>', '', text)\n",
    "\n",
    "    # Remove punctuation\n",
    "    text = text.translate(str.maketrans('', '', string.punctuation))\n",
    "\n",
    "    # Tokenization\n",
    "    words = word_tokenize(text)\n",
    "\n",
    "    # Remove stop words\n",
    "    words = [word for word in words if word not in ENGLISH_STOP_WORDS]\n",
    "    words = [word for word in words if word not in stop_words]\n",
    "\n",
    "    # Stemming and Lemmatization\n",
    "    stemmer = PorterStemmer()\n",
    "    lemmatizer = WordNetLemmatizer()\n",
    "    stemmed_words = [stemmer.stem(word) for word in words]\n",
    "    lemmatized_words = [lemmatizer.lemmatize(word) for word in stemmed_words]\n",
    "\n",
    "    # Rejoin words for vectorization\n",
    "    clean_text = ' '.join(lemmatized_words)\n",
    "\n",
    "    return clean_text\n",
    "\n",
    "def preprocess_data(dataframe, text_column):\n",
    "    # Apply comprehensive preprocessing to the specified text column\n",
    "    dataframe[text_column] = dataframe[text_column].apply(comprehensive_text_preprocessing)\n",
    "    return dataframe\n",
    "\n",
    "# Assuming 'full_text' is the column with text data to preprocess\n",
    "for key in df:\n",
    "    print(f\"Preprocessing {key} data...\")\n",
    "    df[key] = preprocess_data(df[key], 'full_text')\n",
    "\n",
    "# Extract preprocessed texts from both train and test dataframes\n",
    "texts = pd.concat([df['train']['full_text'], df['test']['full_text']])\n",
    "\n",
    "# Word Frequency Visualization\n",
    "all_words = [word for text in texts for word in nltk.word_tokenize(text)]\n",
    "word_freqs = Counter(all_words)\n",
    "most_common_words = word_freqs.most_common(20)\n",
    "\n",
    "# Plotting\n",
    "plt.figure(figsize=(10, 5))\n",
    "words, counts = zip(*most_common_words)\n",
    "plt.bar(words, counts)\n",
    "plt.xlabel('Words')\n",
    "plt.ylabel('Frequency')\n",
    "plt.xticks(rotation=90)\n",
    "plt.title('Most Common Words in Dataset')\n",
    "plt.show()\n"
   ]
  },
  {
   "cell_type": "code",
   "execution_count": null,
   "metadata": {
    "colab": {
     "base_uri": "https://localhost:8080/",
     "height": 1000
    },
    "id": "HU_uyBSuQReW",
    "outputId": "03e4c711-8a24-4f8a-d8d3-a5c5e38a956e"
   },
   "outputs": [],
   "source": [
    "import pandas as pd\n",
    "import nltk\n",
    "from nltk.tokenize import word_tokenize\n",
    "from collections import Counter\n",
    "import matplotlib.pyplot as plt\n",
    "\n",
    "def preprocess_and_analyze_by_score(dataframe,full_text, score):\n",
    "    # Preprocess the text\n",
    "    dataframe[full_text] = dataframe[full_text].apply(comprehensive_text_preprocessing)\n",
    "\n",
    "    # Group by score\n",
    "    grouped = dataframe.groupby(score)\n",
    "\n",
    "    # Dictionary to hold word counts for each score\n",
    "    score_word_freqs = {}\n",
    "    scatter_data = []\n",
    "    for score, group in grouped:\n",
    "        all_words = []\n",
    "        for text in group[full_text]:\n",
    "            words = word_tokenize(text)\n",
    "            word_freqs = Counter(words)\n",
    "            score_word_freqs[score] = word_freqs.most_common(20)  # top 20 words for each score\n",
    "            most_common_word, frequency = word_freqs.most_common(1)[0]  # Most frequent word in the essay\n",
    "            scatter_data.append((most_common_word, frequency, score))  # (word, frequency, score)\n",
    "\n",
    "    return score_word_freqs\n",
    "\n",
    "# Apply the function\n",
    "score_word_freqs = preprocess_and_analyze_by_score(df['train'], 'full_text', 'score')\n",
    "\n",
    "# Now let's visualize the most common words for each score\n",
    "for score, common_words in score_word_freqs.items():\n",
    "    words, frequencies = zip(*common_words)\n",
    "    plt.figure(figsize=(10, 5))\n",
    "    plt.bar(words, frequencies)\n",
    "    plt.xlabel('Words')\n",
    "    plt.ylabel('Frequency')\n",
    "    plt.xticks(rotation=90)\n",
    "    plt.title(f'Most Common Words for Score {score}')\n",
    "    plt.show()\n",
    "\n",
    "plt.figure(figsize=(10, 5))\n",
    "for score, common_words in score_word_freqs.items():\n",
    "    words, frequencies = zip(*common_words)\n",
    "    plt.scatter([score] * len(words), frequencies, label=words)\n",
    "\n",
    "plt.xlabel('Score')\n",
    "plt.ylabel('Frequency')\n",
    "plt.title('Most Frequent Words Frequency vs Score')\n",
    "plt.legend()\n",
    "plt.show()"
   ]
  },
  {
   "cell_type": "code",
   "execution_count": null,
   "metadata": {
    "colab": {
     "base_uri": "https://localhost:8080/"
    },
    "id": "qudyLRU1g_eG",
    "outputId": "44943485-a5a4-462d-fdf8-79fcb5a4af97"
   },
   "outputs": [],
   "source": [
    "print(df)"
   ]
  },
  {
   "cell_type": "markdown",
   "metadata": {
    "id": "xED7OVahSSjd"
   },
   "source": []
  },
  {
   "cell_type": "markdown",
   "metadata": {
    "id": "Lmml_1_DSI0T"
   },
   "source": []
  }
 ],
 "metadata": {
  "colab": {
   "provenance": []
  },
  "kernelspec": {
   "display_name": "Python 3 (ipykernel)",
   "language": "python",
   "name": "python3"
  },
  "language_info": {
   "codemirror_mode": {
    "name": "ipython",
    "version": 3
   },
   "file_extension": ".py",
   "mimetype": "text/x-python",
   "name": "python",
   "nbconvert_exporter": "python",
   "pygments_lexer": "ipython3",
   "version": "3.10.13"
  }
 },
 "nbformat": 4,
 "nbformat_minor": 4
}
